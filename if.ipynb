{
 "cells": [
  {
   "cell_type": "markdown",
   "metadata": {},
   "source": [
    "### if "
   ]
  },
  {
   "cell_type": "markdown",
   "metadata": {},
   "source": [
    "- 기본 형태<br>\n",
    "if 조건:<br>\n",
    "    실행할 명령1<br>\n",
    "    실행할 명령2\n",
    "    .\n",
    "    .\n",
    "    ."
   ]
  },
  {
   "cell_type": "code",
   "execution_count": 1,
   "metadata": {},
   "outputs": [],
   "source": [
    "input_name = '해벅'"
   ]
  },
  {
   "cell_type": "markdown",
   "metadata": {},
   "source": [
    "###  같으면 print()"
   ]
  },
  {
   "cell_type": "code",
   "execution_count": 6,
   "metadata": {},
   "outputs": [
    {
     "name": "stdout",
     "output_type": "stream",
     "text": [
      "만나서 반가워요, 해벅\n"
     ]
    }
   ],
   "source": [
    "if input_name == '해벅':\n",
    "    print('만나서 반가워요,', input_name)"
   ]
  },
  {
   "cell_type": "markdown",
   "metadata": {},
   "source": [
    "### else "
   ]
  },
  {
   "cell_type": "markdown",
   "metadata": {},
   "source": [
    "if 절이 아니면 else절 실행"
   ]
  },
  {
   "cell_type": "markdown",
   "metadata": {},
   "source": [
    "- 기본 형태<br>\n",
    "if 조건:<br>\n",
    "    실행할 명령1<br>\n",
    "    실행할 명령2<br>\n",
    "else:<br>\n",
    "    실행할 명령1<br>\n",
    "    실행할 명령2<br>\n",
    "    ...\n",
    "    "
   ]
  },
  {
   "cell_type": "markdown",
   "metadata": {},
   "source": [
    "### elif"
   ]
  },
  {
   "cell_type": "markdown",
   "metadata": {},
   "source": [
    "if 절 아니면 elif 절 실행, elif 도 F면 넘어감"
   ]
  },
  {
   "cell_type": "markdown",
   "metadata": {},
   "source": [
    "- 기본 형태<br>\n",
    "if 조건:<br>\n",
    "    실행할 명령1<br>\n",
    "    실행할 명령2<br>\n",
    "elif:<br>\n",
    "    실행할 명령1<br>\n",
    "    실행할 명령2<br>\n",
    "    ..."
   ]
  },
  {
   "cell_type": "markdown",
   "metadata": {},
   "source": [
    "### 결론적으로,,\n",
    "if 조건:<br>\n",
    "    실행할 명령1<br>\n",
    "    실행할 명령2<br>\n",
    "elif:<br>\n",
    "    실행할 명령1<br>\n",
    "    실행할 명령2<br>\n",
    "else:<br>\n",
    "    실행할 명령1<br>\n",
    "    실행할 명령2<br>"
   ]
  },
  {
   "cell_type": "code",
   "execution_count": 11,
   "metadata": {},
   "outputs": [
    {
     "name": "stdout",
     "output_type": "stream",
     "text": [
      "당신이 해벅이군요!\n"
     ]
    }
   ],
   "source": [
    "name = '해벅'\n",
    "if name == \"해벅\":\n",
    "    print('당신이 해벅이군요!')\n",
    "elif name == '카데':\n",
    "    print('당신이 카데군요!')\n",
    "else:\n",
    "    print('당신은 !?')"
   ]
  },
  {
   "cell_type": "code",
   "execution_count": 12,
   "metadata": {},
   "outputs": [
    {
     "name": "stdout",
     "output_type": "stream",
     "text": [
      "당신이 카데군요!\n"
     ]
    }
   ],
   "source": [
    "name = '카데'\n",
    "if name == \"해벅\":\n",
    "    print('당신이 해벅이군요!')\n",
    "elif name == '카데':\n",
    "    print('당신이 카데군요!')\n",
    "else:\n",
    "    print('당신은 !?')"
   ]
  },
  {
   "cell_type": "code",
   "execution_count": 13,
   "metadata": {},
   "outputs": [
    {
     "name": "stdout",
     "output_type": "stream",
     "text": [
      "당신은 !?\n"
     ]
    }
   ],
   "source": [
    "name = '해카'\n",
    "if name == \"해벅\":\n",
    "    print('당신이 해벅이군요!')\n",
    "elif name == '카데':\n",
    "    print('당신이 카데군요!')\n",
    "else:\n",
    "    print('당신은 !?')"
   ]
  },
  {
   "cell_type": "code",
   "execution_count": null,
   "metadata": {},
   "outputs": [],
   "source": []
  }
 ],
 "metadata": {
  "kernelspec": {
   "display_name": "Python 3",
   "language": "python",
   "name": "python3"
  },
  "language_info": {
   "codemirror_mode": {
    "name": "ipython",
    "version": 3
   },
   "file_extension": ".py",
   "mimetype": "text/x-python",
   "name": "python",
   "nbconvert_exporter": "python",
   "pygments_lexer": "ipython3",
   "version": "3.8.3"
  }
 },
 "nbformat": 4,
 "nbformat_minor": 4
}
